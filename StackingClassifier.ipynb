{
 "cells": [
  {
   "cell_type": "code",
   "execution_count": 1,
   "metadata": {},
   "outputs": [],
   "source": [
    "import pandas as pd\n",
    "import numpy as np\n",
    "import matplotlib.pyplot as plt\n",
    "\n",
    "from sklearn.neighbors import KNeighborsClassifier\n",
    "from sklearn.ensemble import GradientBoostingClassifier\n",
    "from sklearn.svm import SVC\n",
    "from sklearn.ensemble import RandomForestClassifier\n",
    "from sklearn.tree import DecisionTreeClassifier\n",
    "from sklearn.ensemble import StackingClassifier\n",
    "from sklearn.linear_model import LogisticRegression\n",
    "from sklearn.pipeline import make_pipeline\n",
    "\n",
    "from sklearn.model_selection import GridSearchCV\n",
    "from sklearn.metrics import confusion_matrix ,f1_score\n",
    "from sklearn.preprocessing import MinMaxScaler\n",
    "from sklearn.preprocessing import StandardScaler\n",
    "from sklearn.preprocessing import RobustScaler\n",
    "from sklearn.utils.class_weight import compute_class_weight "
   ]
  },
  {
   "cell_type": "code",
   "execution_count": 2,
   "metadata": {},
   "outputs": [
    {
     "name": "stdout",
     "output_type": "stream",
     "text": [
      "d:\\texas_data_set\\Regularize\\logs\n",
      "d:\\texas_data_set\\Regularize\n"
     ]
    }
   ],
   "source": [
    "from classification_utilities import display_cm, display_adj_cm\n",
    "from ReadData import *\n",
    "from Accuracy import accuracy, accuracy_adjacent\n",
    "\n",
    "%cd ./logs\n",
    "from log_well import *\n",
    "%cd ../"
   ]
  },
  {
   "cell_type": "code",
   "execution_count": 3,
   "metadata": {},
   "outputs": [],
   "source": [
    "well_number1, well_number2, well_number3, well_number4, well_number5, well_number6, well_number7, well_number8, well_number9, well_number10, well_number11, well_number12, WellName = ReadData()"
   ]
  },
  {
   "cell_type": "code",
   "execution_count": 4,
   "metadata": {},
   "outputs": [],
   "source": [
    "training_data = pd.concat([well_number1, well_number2, well_number4, well_number5, well_number6, well_number7, well_number8, well_number9, well_number10])\n",
    "test_data = well_number3\n",
    "\n",
    "training_data = training_data.drop('Well Name', axis=1)\n",
    "test_data = test_data.drop('Well Name', axis=1)\n",
    "\n",
    "X_training = training_data.drop('Facies', axis=1)\n",
    "Y_training = training_data['Facies']\n",
    "\n",
    "X_test = test_data.drop('Facies', axis=1)\n",
    "Y_test = test_data['Facies']\n",
    "    \n",
    "X_training['Depth'], X_training['Formation'], X_training['GR'], X_training['ILD_log10'], X_training['DeltaPHI'], X_training['PHIND'], X_training['PE'], X_training['NM_M'], X_training['RELPOS'] = pd.to_numeric(X_training['Depth']), pd.to_numeric(X_training['Formation']), pd.to_numeric(X_training['GR']), pd.to_numeric(X_training['ILD_log10']), pd.to_numeric(X_training['DeltaPHI']), pd.to_numeric(X_training['PHIND']), pd.to_numeric(X_training['PE']), pd.to_numeric(X_training['NM_M']), pd.to_numeric(X_training['RELPOS'])\n",
    "Y_training = pd.to_numeric(Y_training)\n",
    "    \n",
    "X_test['Depth'], X_test['Formation'], X_test['GR'], X_test['ILD_log10'], X_test['DeltaPHI'], X_test['PHIND'], X_test['PE'], X_test['NM_M'], X_test['RELPOS'] = pd.to_numeric(X_test['Depth']), pd.to_numeric(X_test['Formation']), pd.to_numeric(X_test['GR']), pd.to_numeric(X_test['ILD_log10']), pd.to_numeric(X_test['DeltaPHI']), pd.to_numeric(X_test['PHIND']), pd.to_numeric(X_test['PE']), pd.to_numeric(X_test['NM_M']), pd.to_numeric(X_test['RELPOS'])\n",
    "Y_test = pd.to_numeric(Y_test)\n",
    "    \n",
    "Robust = RobustScaler().fit(X_training)\n",
    "X_training = Robust.transform(X_training)\n",
    "X_test = Robust.transform(X_test)\n",
    "\n",
    "Standard = StandardScaler().fit(X_training)\n",
    "X_training = Standard.transform(X_training)\n",
    "X_test = Standard.transform(X_test)\n",
    "\n",
    "MinMax = MinMaxScaler().fit(X_training)\n",
    "X_training = MinMax.transform(X_training)\n",
    "X_test = MinMax.transform(X_test)\n",
    "    \n",
    "a =  np.unique(Y_training)\n",
    "weights = compute_class_weight(class_weight='balanced', classes=a, y=Y_training)\n",
    "weights = dict(zip(np.unique(Y_training), weights))"
   ]
  },
  {
   "cell_type": "code",
   "execution_count": null,
   "metadata": {},
   "outputs": [],
   "source": []
  }
 ],
 "metadata": {
  "kernelspec": {
   "display_name": "Python 3",
   "language": "python",
   "name": "python3"
  },
  "language_info": {
   "codemirror_mode": {
    "name": "ipython",
    "version": 3
   },
   "file_extension": ".py",
   "mimetype": "text/x-python",
   "name": "python",
   "nbconvert_exporter": "python",
   "pygments_lexer": "ipython3",
   "version": "3.10.2 (tags/v3.10.2:a58ebcc, Jan 17 2022, 14:12:15) [MSC v.1929 64 bit (AMD64)]"
  },
  "orig_nbformat": 4,
  "vscode": {
   "interpreter": {
    "hash": "26de051ba29f2982a8de78e945f0abaf191376122a1563185a90213a26c5da77"
   }
  }
 },
 "nbformat": 4,
 "nbformat_minor": 2
}
